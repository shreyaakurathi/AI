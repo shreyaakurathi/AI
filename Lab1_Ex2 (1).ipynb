{
  "cells": [
    {
      "cell_type": "markdown",
      "source": [
        "## **Shreya Akurathi** \n",
        "## **200968188**\n",
        "## **Lab 1 - Ex2**\n",
        "## **30/01/23**"
      ],
      "metadata": {
        "id": "sEZmFadn2658"
      }
    },
    {
      "cell_type": "markdown",
      "source": [
        "# 2.Train an autoencoder to detect anomalies usingthe ECG5000 dataset."
      ],
      "metadata": {
        "id": "ixEMJyY_2eDm"
      }
    },
    {
      "cell_type": "markdown",
      "source": [
        "Plot and observe a normal ECG vs an anomalous ECG.\n",
        "\n",
        "Design and Train  an  autoencoder  on  the  normal  rhythms  only,  then  use  it  to reconstruct all the data.\n",
        "The autoencoder is trained using only the normal ECGs, but is evaluated using the full test set.\n",
        "\n",
        "Classify an ECG as anomalous if the reconstruction error is greater than one standard deviation from the normal training examples. "
      ],
      "metadata": {
        "id": "KXSgaUdY2gbW"
      }
    },
    {
      "cell_type": "markdown",
      "source": [
        "***Import required libraries***"
      ],
      "metadata": {
        "id": "eWg3sJSP372a"
      }
    },
    {
      "cell_type": "code",
      "source": [
        "import matplotlib.pyplot as plt\n",
        "import numpy as np\n",
        "import pandas as pd\n",
        "import tensorflow as tf\n",
        "\n",
        "from sklearn.metrics import accuracy_score, precision_score, recall_score\n",
        "from sklearn.model_selection import train_test_split\n",
        "from tensorflow.keras import layers, losses\n",
        "from tensorflow.keras.models import Model"
      ],
      "outputs": [],
      "execution_count": null,
      "metadata": {
        "id": "Hb5KH7Hd4Ck1"
      }
    },
    {
      "cell_type": "markdown",
      "source": [
        "***import files***"
      ],
      "metadata": {
        "id": "ex-qzCR95Ibo"
      }
    },
    {
      "cell_type": "code",
      "source": [
        "\n",
        "df = pd.read_csv('http://storage.googleapis.com/download.tensorflow.org/data/ecg.csv', header=None)\n",
        "#mupy array of pixel valuea to traverse easier\n",
        "raw_data = df.values\n"
      ],
      "outputs": [],
      "execution_count": null,
      "metadata": {
        "id": "FZacH0WE2Zdn"
      }
    },
    {
      "cell_type": "code",
      "source": [
        "print(df.shape)\n"
      ],
      "outputs": [
        {
          "output_type": "stream",
          "name": "stdout",
          "text": "(4998, 141)\n"
        }
      ],
      "execution_count": null,
      "metadata": {
        "colab": {
          "base_uri": "https://localhost:8080/"
        },
        "id": "TE-93WZo5fWk",
        "outputId": "eea8349d-f48f-4d4f-ec3f-7ad13c4752d5"
      }
    },
    {
      "cell_type": "code",
      "source": [
        "df.head()"
      ],
      "outputs": [
        {
          "output_type": "execute_result",
          "execution_count": 4,
          "data": {
            "text/plain": "        0         1         2         3         4         5         6    \\\n0 -0.112522 -2.827204 -3.773897 -4.349751 -4.376041 -3.474986 -2.181408   \n1 -1.100878 -3.996840 -4.285843 -4.506579 -4.022377 -3.234368 -1.566126   \n2 -0.567088 -2.593450 -3.874230 -4.584095 -4.187449 -3.151462 -1.742940   \n3  0.490473 -1.914407 -3.616364 -4.318823 -4.268016 -3.881110 -2.993280   \n4  0.800232 -0.874252 -2.384761 -3.973292 -4.338224 -3.802422 -2.534510   \n\n        7         8         9    ...       131       132       133       134  \\\n0 -1.818286 -1.250522 -0.477492  ...  0.792168  0.933541  0.796958  0.578621   \n1 -0.992258 -0.754680  0.042321  ...  0.538356  0.656881  0.787490  0.724046   \n2 -1.490659 -1.183580 -0.394229  ...  0.886073  0.531452  0.311377 -0.021919   \n3 -1.671131 -1.333884 -0.965629  ...  0.350816  0.499111  0.600345  0.842069   \n4 -1.783423 -1.594450 -0.753199  ...  1.148884  0.958434  1.059025  1.371682   \n\n        135       136       137       138       139  140  \n0  0.257740  0.228077  0.123431  0.925286  0.193137  1.0  \n1  0.555784  0.476333  0.773820  1.119621 -1.436250  1.0  \n2 -0.713683 -0.532197  0.321097  0.904227 -0.421797  1.0  \n3  0.952074  0.990133  1.086798  1.403011 -0.383564  1.0  \n4  1.277392  0.960304  0.971020  1.614392  1.421456  1.0  \n\n[5 rows x 141 columns]",
            "text/html": "\n  <div id=\"df-1f1b9366-ea55-48a2-a38a-c5e8d93b9f51\">\n    <div class=\"colab-df-container\">\n      <div>\n<style scoped>\n    .dataframe tbody tr th:only-of-type {\n        vertical-align: middle;\n    }\n\n    .dataframe tbody tr th {\n        vertical-align: top;\n    }\n\n    .dataframe thead th {\n        text-align: right;\n    }\n</style>\n<table border=\"1\" class=\"dataframe\">\n  <thead>\n    <tr style=\"text-align: right;\">\n      <th></th>\n      <th>0</th>\n      <th>1</th>\n      <th>2</th>\n      <th>3</th>\n      <th>4</th>\n      <th>5</th>\n      <th>6</th>\n      <th>7</th>\n      <th>8</th>\n      <th>9</th>\n      <th>...</th>\n      <th>131</th>\n      <th>132</th>\n      <th>133</th>\n      <th>134</th>\n      <th>135</th>\n      <th>136</th>\n      <th>137</th>\n      <th>138</th>\n      <th>139</th>\n      <th>140</th>\n    </tr>\n  </thead>\n  <tbody>\n    <tr>\n      <th>0</th>\n      <td>-0.112522</td>\n      <td>-2.827204</td>\n      <td>-3.773897</td>\n      <td>-4.349751</td>\n      <td>-4.376041</td>\n      <td>-3.474986</td>\n      <td>-2.181408</td>\n      <td>-1.818286</td>\n      <td>-1.250522</td>\n      <td>-0.477492</td>\n      <td>...</td>\n      <td>0.792168</td>\n      <td>0.933541</td>\n      <td>0.796958</td>\n      <td>0.578621</td>\n      <td>0.257740</td>\n      <td>0.228077</td>\n      <td>0.123431</td>\n      <td>0.925286</td>\n      <td>0.193137</td>\n      <td>1.0</td>\n    </tr>\n    <tr>\n      <th>1</th>\n      <td>-1.100878</td>\n      <td>-3.996840</td>\n      <td>-4.285843</td>\n      <td>-4.506579</td>\n      <td>-4.022377</td>\n      <td>-3.234368</td>\n      <td>-1.566126</td>\n      <td>-0.992258</td>\n      <td>-0.754680</td>\n      <td>0.042321</td>\n      <td>...</td>\n      <td>0.538356</td>\n      <td>0.656881</td>\n      <td>0.787490</td>\n      <td>0.724046</td>\n      <td>0.555784</td>\n      <td>0.476333</td>\n      <td>0.773820</td>\n      <td>1.119621</td>\n      <td>-1.436250</td>\n      <td>1.0</td>\n    </tr>\n    <tr>\n      <th>2</th>\n      <td>-0.567088</td>\n      <td>-2.593450</td>\n      <td>-3.874230</td>\n      <td>-4.584095</td>\n      <td>-4.187449</td>\n      <td>-3.151462</td>\n      <td>-1.742940</td>\n      <td>-1.490659</td>\n      <td>-1.183580</td>\n      <td>-0.394229</td>\n      <td>...</td>\n      <td>0.886073</td>\n      <td>0.531452</td>\n      <td>0.311377</td>\n      <td>-0.021919</td>\n      <td>-0.713683</td>\n      <td>-0.532197</td>\n      <td>0.321097</td>\n      <td>0.904227</td>\n      <td>-0.421797</td>\n      <td>1.0</td>\n    </tr>\n    <tr>\n      <th>3</th>\n      <td>0.490473</td>\n      <td>-1.914407</td>\n      <td>-3.616364</td>\n      <td>-4.318823</td>\n      <td>-4.268016</td>\n      <td>-3.881110</td>\n      <td>-2.993280</td>\n      <td>-1.671131</td>\n      <td>-1.333884</td>\n      <td>-0.965629</td>\n      <td>...</td>\n      <td>0.350816</td>\n      <td>0.499111</td>\n      <td>0.600345</td>\n      <td>0.842069</td>\n      <td>0.952074</td>\n      <td>0.990133</td>\n      <td>1.086798</td>\n      <td>1.403011</td>\n      <td>-0.383564</td>\n      <td>1.0</td>\n    </tr>\n    <tr>\n      <th>4</th>\n      <td>0.800232</td>\n      <td>-0.874252</td>\n      <td>-2.384761</td>\n      <td>-3.973292</td>\n      <td>-4.338224</td>\n      <td>-3.802422</td>\n      <td>-2.534510</td>\n      <td>-1.783423</td>\n      <td>-1.594450</td>\n      <td>-0.753199</td>\n      <td>...</td>\n      <td>1.148884</td>\n      <td>0.958434</td>\n      <td>1.059025</td>\n      <td>1.371682</td>\n      <td>1.277392</td>\n      <td>0.960304</td>\n      <td>0.971020</td>\n      <td>1.614392</td>\n      <td>1.421456</td>\n      <td>1.0</td>\n    </tr>\n  </tbody>\n</table>\n<p>5 rows × 141 columns</p>\n</div>\n      <button class=\"colab-df-convert\" onclick=\"convertToInteractive('df-1f1b9366-ea55-48a2-a38a-c5e8d93b9f51')\"\n              title=\"Convert this dataframe to an interactive table.\"\n              style=\"display:none;\">\n        \n  <svg xmlns=\"http://www.w3.org/2000/svg\" height=\"24px\"viewBox=\"0 0 24 24\"\n       width=\"24px\">\n    <path d=\"M0 0h24v24H0V0z\" fill=\"none\"/>\n    <path d=\"M18.56 5.44l.94 2.06.94-2.06 2.06-.94-2.06-.94-.94-2.06-.94 2.06-2.06.94zm-11 1L8.5 8.5l.94-2.06 2.06-.94-2.06-.94L8.5 2.5l-.94 2.06-2.06.94zm10 10l.94 2.06.94-2.06 2.06-.94-2.06-.94-.94-2.06-.94 2.06-2.06.94z\"/><path d=\"M17.41 7.96l-1.37-1.37c-.4-.4-.92-.59-1.43-.59-.52 0-1.04.2-1.43.59L10.3 9.45l-7.72 7.72c-.78.78-.78 2.05 0 2.83L4 21.41c.39.39.9.59 1.41.59.51 0 1.02-.2 1.41-.59l7.78-7.78 2.81-2.81c.8-.78.8-2.07 0-2.86zM5.41 20L4 18.59l7.72-7.72 1.47 1.35L5.41 20z\"/>\n  </svg>\n      </button>\n      \n  <style>\n    .colab-df-container {\n      display:flex;\n      flex-wrap:wrap;\n      gap: 12px;\n    }\n\n    .colab-df-convert {\n      background-color: #E8F0FE;\n      border: none;\n      border-radius: 50%;\n      cursor: pointer;\n      display: none;\n      fill: #1967D2;\n      height: 32px;\n      padding: 0 0 0 0;\n      width: 32px;\n    }\n\n    .colab-df-convert:hover {\n      background-color: #E2EBFA;\n      box-shadow: 0px 1px 2px rgba(60, 64, 67, 0.3), 0px 1px 3px 1px rgba(60, 64, 67, 0.15);\n      fill: #174EA6;\n    }\n\n    [theme=dark] .colab-df-convert {\n      background-color: #3B4455;\n      fill: #D2E3FC;\n    }\n\n    [theme=dark] .colab-df-convert:hover {\n      background-color: #434B5C;\n      box-shadow: 0px 1px 3px 1px rgba(0, 0, 0, 0.15);\n      filter: drop-shadow(0px 1px 2px rgba(0, 0, 0, 0.3));\n      fill: #FFFFFF;\n    }\n  </style>\n\n      <script>\n        const buttonEl =\n          document.querySelector('#df-1f1b9366-ea55-48a2-a38a-c5e8d93b9f51 button.colab-df-convert');\n        buttonEl.style.display =\n          google.colab.kernel.accessAllowed ? 'block' : 'none';\n\n        async function convertToInteractive(key) {\n          const element = document.querySelector('#df-1f1b9366-ea55-48a2-a38a-c5e8d93b9f51');\n          const dataTable =\n            await google.colab.kernel.invokeFunction('convertToInteractive',\n                                                     [key], {});\n          if (!dataTable) return;\n\n          const docLinkHtml = 'Like what you see? Visit the ' +\n            '<a target=\"_blank\" href=https://colab.research.google.com/notebooks/data_table.ipynb>data table notebook</a>'\n            + ' to learn more about interactive tables.';\n          element.innerHTML = '';\n          dataTable['output_type'] = 'display_data';\n          await google.colab.output.renderOutput(dataTable, element);\n          const docLink = document.createElement('div');\n          docLink.innerHTML = docLinkHtml;\n          element.appendChild(docLink);\n        }\n      </script>\n    </div>\n  </div>\n  "
          },
          "metadata": {}
        }
      ],
      "execution_count": null,
      "metadata": {
        "colab": {
          "base_uri": "https://localhost:8080/",
          "height": 299
        },
        "id": "rbRu7R_35hpe",
        "outputId": "1631d001-4a9d-4e80-d2f5-66a0b5e467c9"
      }
    },
    {
      "cell_type": "code",
      "source": [
        "raw_data"
      ],
      "outputs": [
        {
          "output_type": "execute_result",
          "execution_count": 5,
          "data": {
            "text/plain": "array([[-0.11252183, -2.8272038 , -3.7738969 , ...,  0.92528624,\n         0.19313742,  1.        ],\n       [-1.1008778 , -3.9968398 , -4.2858426 , ...,  1.1196209 ,\n        -1.4362499 ,  1.        ],\n       [-0.56708802, -2.5934502 , -3.8742297 , ...,  0.90422673,\n        -0.42179659,  1.        ],\n       ...,\n       [-1.1229693 , -2.2529248 , -2.8676281 , ..., -2.0083694 ,\n        -1.8083338 ,  0.        ],\n       [-0.54770461, -1.8895451 , -2.8397786 , ...,  1.1504486 ,\n         0.80493225,  0.        ],\n       [-1.3517791 , -2.2090058 , -2.5202247 , ..., -1.577823  ,\n        -0.68453092,  0.        ]])"
          },
          "metadata": {}
        }
      ],
      "execution_count": null,
      "metadata": {
        "colab": {
          "base_uri": "https://localhost:8080/"
        },
        "id": "KnpNG2WA5syt",
        "outputId": "2f420b84-1f7b-4d4d-a7d9-793f9d10f8e2"
      }
    },
    {
      "cell_type": "markdown",
      "source": [
        "***Find labels: 0 - wrong , 1- normal , last element of array***"
      ],
      "metadata": {
        "id": "sEQKo_kD5mQ_"
      }
    },
    {
      "cell_type": "code",
      "source": [
        "\n",
        "labels = raw_data[:, -1]\n",
        "\n",
        "data = raw_data[:, 0:-1]\n",
        "\n",
        "train_data, test_data, train_labels, test_labels = train_test_split(\n",
        "    data, labels, test_size=0.2, random_state=21\n",
        ")"
      ],
      "outputs": [],
      "execution_count": null,
      "metadata": {
        "id": "-78Wnzoz5q60"
      }
    },
    {
      "cell_type": "markdown",
      "source": [
        "***Normalise b/w 0 and 1***"
      ],
      "metadata": {
        "id": "KzUnLQcG6QFv"
      }
    },
    {
      "cell_type": "code",
      "source": [
        "\n",
        "min_val = tf.reduce_min(train_data)\n",
        "max_val = tf.reduce_max(train_data)\n",
        "\n",
        "train_data = (train_data - min_val) / (max_val - min_val)\n",
        "test_data = (test_data - min_val) / (max_val - min_val)\n",
        "\n",
        "train_data = tf.cast(train_data, tf.float32)\n",
        "test_data = tf.cast(test_data, tf.float32)"
      ],
      "outputs": [],
      "execution_count": null,
      "metadata": {
        "id": "LbMnpO8z6ExT"
      }
    },
    {
      "cell_type": "code",
      "source": [
        "train_labels = train_labels.astype(bool)\n",
        "test_labels = test_labels.astype(bool)\n",
        "\n",
        "normal_train_data = train_data[train_labels]\n",
        "normal_test_data = test_data[test_labels]\n",
        "\n",
        "anomalous_train_data = train_data[~train_labels]\n",
        "anomalous_test_data = test_data[~test_labels]\n",
        "\n",
        "train_data, normal_test_data, anomalous_train_data"
      ],
      "outputs": [
        {
          "output_type": "execute_result",
          "execution_count": 8,
          "data": {
            "text/plain": "(<tf.Tensor: shape=(3998, 140), dtype=float32, numpy=\n array([[0.57030463, 0.46561658, 0.29058117, ..., 0.48504233, 0.4233502 ,\n         0.47598344],\n        [0.48320588, 0.28246963, 0.16471253, ..., 0.567567  , 0.4677294 ,\n         0.2692329 ],\n        [0.48144642, 0.35151404, 0.25972766, ..., 0.5479421 , 0.5077544 ,\n         0.54298663],\n        ...,\n        [0.41039047, 0.24164985, 0.13120876, ..., 0.5277313 , 0.5654091 ,\n         0.5023885 ],\n        [0.5397748 , 0.4140786 , 0.28101394, ..., 0.51266515, 0.43706053,\n         0.4426865 ],\n        [0.29639772, 0.15988176, 0.18883787, ..., 0.53766966, 0.545786  ,\n         0.40826708]], dtype=float32)>,\n <tf.Tensor: shape=(560, 140), dtype=float32, numpy=\n array([[0.48035768, 0.28877792, 0.19828546, ..., 0.45463306, 0.5246125 ,\n         0.3713729 ],\n        [0.45354807, 0.2557325 , 0.15979648, ..., 0.4801337 , 0.5284734 ,\n         0.49527124],\n        [0.4521779 , 0.25685105, 0.12592098, ..., 0.55448556, 0.5861353 ,\n         0.4754273 ],\n        ...,\n        [0.48304972, 0.36122933, 0.27729514, ..., 0.32799056, 0.3158066 ,\n         0.26930442],\n        [0.4090865 , 0.27907097, 0.22604261, ..., 0.39099607, 0.45987615,\n         0.42140076],\n        [0.42648116, 0.17669384, 0.14546008, ..., 0.4733389 , 0.55036914,\n         0.37805188]], dtype=float32)>,\n <tf.Tensor: shape=(1639, 140), dtype=float32, numpy=\n array([[0.4304001 , 0.35345322, 0.30342638, ..., 0.30506894, 0.262255  ,\n         0.2502011 ],\n        [0.4494794 , 0.37906834, 0.3202905 , ..., 0.31546655, 0.39611116,\n         0.46317974],\n        [0.49198422, 0.4355403 , 0.3698029 , ..., 0.5260356 , 0.52524984,\n         0.5278486 ],\n        ...,\n        [0.43457043, 0.362154  , 0.34958026, ..., 0.3179064 , 0.3426891 ,\n         0.49215436],\n        [0.4814947 , 0.4255184 , 0.38368973, ..., 0.29031053, 0.3311408 ,\n         0.4467481 ],\n        [0.4276824 , 0.3507402 , 0.31587753, ..., 0.3177887 , 0.33242297,\n         0.419218  ]], dtype=float32)>)"
          },
          "metadata": {}
        }
      ],
      "execution_count": null,
      "metadata": {
        "colab": {
          "base_uri": "https://localhost:8080/"
        },
        "id": "I-lPkPt168pH",
        "outputId": "697248ee-be1a-418d-984d-69082957a7a5"
      }
    },
    {
      "cell_type": "markdown",
      "source": [
        "# ***Plotting normal ECG***"
      ],
      "metadata": {
        "id": "Pr-pYWJX62aF"
      }
    },
    {
      "cell_type": "code",
      "source": [
        "normal_train_data.shape"
      ],
      "outputs": [
        {
          "output_type": "execute_result",
          "execution_count": 9,
          "data": {
            "text/plain": "TensorShape([2359, 140])"
          },
          "metadata": {}
        }
      ],
      "execution_count": null,
      "metadata": {
        "colab": {
          "base_uri": "https://localhost:8080/"
        },
        "id": "IDHjvZIp7tzR",
        "outputId": "1323af3e-1d9f-42d0-9de9-afc27b16cc1d"
      }
    },
    {
      "cell_type": "markdown",
      "source": [
        "2359 ecg entries"
      ],
      "metadata": {
        "id": "7BQwnrT77z5i"
      }
    },
    {
      "cell_type": "code",
      "source": [
        "plt.grid()\n",
        "\n",
        "plt.plot(np.arange(140), normal_train_data[2000])\n",
        "plt.title(f\"Normal ECG\")\n",
        "plt.show()\n",
        "\n"
      ],
      "outputs": [
        {
          "output_type": "display_data",
          "data": {
            "text/plain": "<Figure size 432x288 with 1 Axes>",
            "image/png": "[encoded data removed]"
          },
          "metadata": {
            "needs_background": "light"
          }
        }
      ],
      "execution_count": null,
      "metadata": {
        "colab": {
          "base_uri": "https://localhost:8080/",
          "height": 281
        },
        "id": "L-ynzG1K61wI",
        "outputId": "2c7c9443-2018-4905-cdc5-ecfef14283ce"
      }
    },
    {
      "cell_type": "markdown",
      "source": [
        "# ***Plotting an anamolous ecg ***"
      ],
      "metadata": {
        "id": "ubc3E_L58EvB"
      }
    },
    {
      "cell_type": "code",
      "source": [
        "anomalous_train_data.shape"
      ],
      "outputs": [
        {
          "output_type": "execute_result",
          "execution_count": 11,
          "data": {
            "text/plain": "TensorShape([1639, 140])"
          },
          "metadata": {}
        }
      ],
      "execution_count": null,
      "metadata": {
        "colab": {
          "base_uri": "https://localhost:8080/"
        },
        "id": "fDym_8xR8KMW",
        "outputId": "d805fb6f-f62f-49b4-d0f8-e42516edc5ce"
      }
    },
    {
      "cell_type": "markdown",
      "source": [
        "1639 entries"
      ],
      "metadata": {
        "id": "1j4CBWD08UA-"
      }
    },
    {
      "cell_type": "code",
      "source": [
        "plt.grid()\n",
        "\n",
        "plt.plot(np.arange(140), anomalous_train_data[1600])\n",
        "plt.title(f\"Anomolous ECG\")\n",
        "plt.show()"
      ],
      "outputs": [
        {
          "output_type": "display_data",
          "data": {
            "text/plain": "<Figure size 432x288 with 1 Axes>",
            "image/png": "[encoded data removed]"
          },
          "metadata": {
            "needs_background": "light"
          }
        }
      ],
      "execution_count": null,
      "metadata": {
        "colab": {
          "base_uri": "https://localhost:8080/",
          "height": 281
        },
        "id": "J9Qyop4Y8Tka",
        "outputId": "f52e06af-8cfc-4061-a3aa-119d6c209561"
      }
    },
    {
      "cell_type": "markdown",
      "source": [
        "# **AutoEncoder**"
      ],
      "metadata": {
        "id": "isdTZTMW91UM"
      }
    },
    {
      "cell_type": "code",
      "source": [
        "from tensorflow import keras\n",
        "from tensorflow.keras import layers,losses\n",
        "from tensorflow.keras.layers import Flatten,Dense, Input, Conv2D,MaxPool2D, UpSampling2D\n",
        "from tensorflow.keras.models import Model\n",
        "\n",
        "from sklearn.model_selection import train_test_split\n",
        "from keras.callbacks import EarlyStopping\n",
        "from tensorflow.keras.utils import to_categorical\n",
        "from numpy import argmax, array_equal"
      ],
      "outputs": [],
      "execution_count": null,
      "metadata": {
        "id": "XshAK5XL-Huq"
      }
    },
    {
      "cell_type": "code",
      "source": [
        "input = Input(shape = (140,))"
      ],
      "outputs": [],
      "execution_count": null,
      "metadata": {
        "id": "Mr8YYOHQ94hN"
      }
    },
    {
      "cell_type": "code",
      "source": [
        "en= Dense(32, activation=\"relu\")(input)\n",
        "en= Dense(16, activation=\"relu\")(en)\n",
        "en= Dense(8, activation=\"relu\")(en)\n",
        "\n",
        "de = Dense(16, activation=\"relu\")(en)\n",
        "de = Dense(32, activation=\"relu\")(de)\n",
        "de = Dense(140, activation=\"sigmoid\")(de)"
      ],
      "outputs": [],
      "execution_count": null,
      "metadata": {
        "id": "P2odSPG08ptJ"
      }
    },
    {
      "cell_type": "code",
      "source": [
        "autoencoder = Model(input, de)"
      ],
      "outputs": [],
      "execution_count": null,
      "metadata": {
        "id": "6Z_v2U0_-9Nw"
      }
    },
    {
      "cell_type": "code",
      "source": [
        "autoencoder.compile(optimizer=\"adam\", loss=\"mae\")"
      ],
      "outputs": [],
      "execution_count": null,
      "metadata": {
        "id": "FVH_UEph_BUI"
      }
    },
    {
      "cell_type": "code",
      "source": [
        "hist = autoencoder.fit(normal_train_data,\n",
        "                          normal_train_data,\n",
        "                          epochs=50,\n",
        "                          batch_size=512,\n",
        "                          validation_data=(test_data, test_data),\n",
        "                          shuffle=True)"
      ],
      "outputs": [
        {
          "output_type": "stream",
          "name": "stdout",
          "text": "Epoch 1/50\n5/5 [==============================] - 1s 49ms/step - loss: 0.0583 - val_loss: 0.0528\nEpoch 2/50\n5/5 [==============================] - 0s 12ms/step - loss: 0.0553 - val_loss: 0.0507\nEpoch 3/50\n5/5 [==============================] - 0s 10ms/step - loss: 0.0520 - val_loss: 0.0486\nEpoch 4/50\n5/5 [==============================] - 0s 10ms/step - loss: 0.0480 - val_loss: 0.0473\nEpoch 5/50\n5/5 [==============================] - 0s 10ms/step - loss: 0.0441 - val_loss: 0.0455\nEpoch 6/50\n5/5 [==============================] - 0s 10ms/step - loss: 0.0398 - val_loss: 0.0430\nEpoch 7/50\n5/5 [==============================] - 0s 10ms/step - loss: 0.0357 - val_loss: 0.0415\nEpoch 8/50\n5/5 [==============================] - 0s 10ms/step - loss: 0.0325 - val_loss: 0.0405\nEpoch 9/50\n5/5 [==============================] - 0s 12ms/step - loss: 0.0303 - val_loss: 0.0392\nEpoch 10/50\n5/5 [==============================] - 0s 14ms/step - loss: 0.0287 - val_loss: 0.0386\nEpoch 11/50\n5/5 [==============================] - 0s 10ms/step - loss: 0.0274 - val_loss: 0.0376\nEpoch 12/50\n5/5 [==============================] - 0s 11ms/step - loss: 0.0263 - val_loss: 0.0369\nEpoch 13/50\n5/5 [==============================] - 0s 11ms/step - loss: 0.0255 - val_loss: 0.0364\nEpoch 14/50\n5/5 [==============================] - 0s 12ms/step - loss: 0.0246 - val_loss: 0.0358\nEpoch 15/50\n5/5 [==============================] - 0s 10ms/step - loss: 0.0238 - val_loss: 0.0353\nEpoch 16/50\n5/5 [==============================] - 0s 10ms/step - loss: 0.0232 - val_loss: 0.0346\nEpoch 17/50\n5/5 [==============================] - 0s 10ms/step - loss: 0.0226 - val_loss: 0.0343\nEpoch 18/50\n5/5 [==============================] - 0s 11ms/step - loss: 0.0222 - val_loss: 0.0339\nEpoch 19/50\n5/5 [==============================] - 0s 11ms/step - loss: 0.0217 - val_loss: 0.0337\nEpoch 20/50\n5/5 [==============================] - 0s 14ms/step - loss: 0.0213 - val_loss: 0.0335\nEpoch 21/50\n5/5 [==============================] - 0s 15ms/step - loss: 0.0209 - val_loss: 0.0334\nEpoch 22/50\n5/5 [==============================] - 0s 11ms/step - loss: 0.0207 - val_loss: 0.0332\nEpoch 23/50\n5/5 [==============================] - 0s 11ms/step - loss: 0.0204 - val_loss: 0.0332\nEpoch 24/50\n5/5 [==============================] - 0s 10ms/step - loss: 0.0202 - val_loss: 0.0330\nEpoch 25/50\n5/5 [==============================] - 0s 10ms/step - loss: 0.0201 - val_loss: 0.0328\nEpoch 26/50\n5/5 [==============================] - 0s 11ms/step - loss: 0.0199 - val_loss: 0.0326\nEpoch 27/50\n5/5 [==============================] - 0s 12ms/step - loss: 0.0198 - val_loss: 0.0324\nEpoch 28/50\n5/5 [==============================] - 0s 10ms/step - loss: 0.0197 - val_loss: 0.0323\nEpoch 29/50\n5/5 [==============================] - 0s 11ms/step - loss: 0.0196 - val_loss: 0.0320\nEpoch 30/50\n5/5 [==============================] - 0s 12ms/step - loss: 0.0195 - val_loss: 0.0318\nEpoch 31/50\n5/5 [==============================] - 0s 10ms/step - loss: 0.0194 - val_loss: 0.0316\nEpoch 32/50\n5/5 [==============================] - 0s 10ms/step - loss: 0.0193 - val_loss: 0.0313\nEpoch 33/50\n5/5 [==============================] - 0s 18ms/step - loss: 0.0192 - val_loss: 0.0311\nEpoch 34/50\n5/5 [==============================] - 0s 29ms/step - loss: 0.0192 - val_loss: 0.0310\nEpoch 35/50\n5/5 [==============================] - 0s 17ms/step - loss: 0.0191 - val_loss: 0.0305\nEpoch 36/50\n5/5 [==============================] - 0s 21ms/step - loss: 0.0190 - val_loss: 0.0305\nEpoch 37/50\n5/5 [==============================] - 0s 15ms/step - loss: 0.0189 - val_loss: 0.0302\nEpoch 38/50\n5/5 [==============================] - 0s 22ms/step - loss: 0.0188 - val_loss: 0.0300\nEpoch 39/50\n5/5 [==============================] - 0s 29ms/step - loss: 0.0187 - val_loss: 0.0298\nEpoch 40/50\n5/5 [==============================] - 0s 22ms/step - loss: 0.0186 - val_loss: 0.0297\nEpoch 41/50\n5/5 [==============================] - 0s 18ms/step - loss: 0.0185 - val_loss: 0.0295\nEpoch 42/50\n5/5 [==============================] - 0s 16ms/step - loss: 0.0184 - val_loss: 0.0293\nEpoch 43/50\n5/5 [==============================] - 0s 19ms/step - loss: 0.0183 - val_loss: 0.0293\nEpoch 44/50\n5/5 [==============================] - 0s 22ms/step - loss: 0.0182 - val_loss: 0.0292\nEpoch 45/50\n5/5 [==============================] - 0s 47ms/step - loss: 0.0181 - val_loss: 0.0289\nEpoch 46/50\n5/5 [==============================] - 0s 20ms/step - loss: 0.0180 - val_loss: 0.0289\nEpoch 47/50\n5/5 [==============================] - 0s 23ms/step - loss: 0.0179 - val_loss: 0.0288\nEpoch 48/50\n5/5 [==============================] - 0s 23ms/step - loss: 0.0178 - val_loss: 0.0287\nEpoch 49/50\n5/5 [==============================] - 0s 28ms/step - loss: 0.0177 - val_loss: 0.0286\nEpoch 50/50\n5/5 [==============================] - 0s 26ms/step - loss: 0.0176 - val_loss: 0.0286\n"
        }
      ],
      "execution_count": null,
      "metadata": {
        "colab": {
          "base_uri": "https://localhost:8080/"
        },
        "id": "GtHGnRbE8SAX",
        "outputId": "f54a7ab5-ef5f-48b2-aa47-6f14480a2988"
      }
    },
    {
      "cell_type": "markdown",
      "source": [
        "# Classify an ECG as anomalous if the reconstruction error is greater than one standard deviation from the normal training examples. \n"
      ],
      "metadata": {
        "id": "Mf59QwFNArjB"
      }
    },
    {
      "cell_type": "markdown",
      "source": [
        "loss of train set till now"
      ],
      "metadata": {
        "id": "SdZuavBoA3c5"
      }
    },
    {
      "cell_type": "code",
      "source": [
        "new = autoencoder.predict(normal_train_data)\n"
      ],
      "outputs": [
        {
          "output_type": "stream",
          "name": "stdout",
          "text": "74/74 [==============================] - 0s 2ms/step\n"
        }
      ],
      "execution_count": null,
      "metadata": {
        "colab": {
          "base_uri": "https://localhost:8080/"
        },
        "id": "SSB4IlDy__lv",
        "outputId": "e17afe1f-a83d-4454-a804-d78f11ab2272"
      }
    },
    {
      "cell_type": "code",
      "source": [
        "\n",
        "train_loss = tf.keras.losses.mae(new, normal_train_data)"
      ],
      "outputs": [],
      "execution_count": null,
      "metadata": {
        "id": "v97DhK6OBO6h"
      }
    },
    {
      "cell_type": "code",
      "source": [
        "plt.hist(train_loss, bins=50)\n",
        "plt.xlabel(\"Train loss\")\n",
        "plt.ylabel(\"No of examples\")\n",
        "plt.show()"
      ],
      "outputs": [
        {
          "output_type": "display_data",
          "data": {
            "text/plain": "<Figure size 432x288 with 1 Axes>",
            "image/png": "[encoded data removed]"
          },
          "metadata": {
            "needs_background": "light"
          }
        }
      ],
      "execution_count": null,
      "metadata": {
        "colab": {
          "base_uri": "https://localhost:8080/",
          "height": 279
        },
        "id": "nDuWMM-4BZ12",
        "outputId": "c58017e8-a996-4024-ebb2-c7746b225711"
      }
    },
    {
      "cell_type": "markdown",
      "source": [
        "loss < 0.003"
      ],
      "metadata": {
        "id": "NC59iwHUBevZ"
      }
    },
    {
      "cell_type": "code",
      "source": [
        "classi = np.mean(train_loss) + np.std(train_loss)\n",
        "print(\"Classification error rate: \", classi)"
      ],
      "outputs": [
        {
          "output_type": "stream",
          "name": "stdout",
          "text": "Classification error rate:  0.02696487\n"
        }
      ],
      "execution_count": null,
      "metadata": {
        "colab": {
          "base_uri": "https://localhost:8080/"
        },
        "id": "UMhQCAf7BjIw",
        "outputId": "efbc192e-e4cc-478c-a620-4fd3a167e755"
      }
    },
    {
      "cell_type": "code",
      "source": [
        "new1 = autoencoder(test_data)"
      ],
      "outputs": [],
      "execution_count": null,
      "metadata": {
        "id": "glmUW1RYIy5B"
      }
    },
    {
      "cell_type": "code",
      "source": [
        "loss = tf.keras.losses.mae(new1, test_data)"
      ],
      "outputs": [],
      "execution_count": null,
      "metadata": {
        "id": "m6940gqpJMx_"
      }
    },
    {
      "cell_type": "code",
      "source": [
        "preds= tf.math.less(loss, classi)"
      ],
      "outputs": [],
      "execution_count": null,
      "metadata": {
        "id": "0b7oBqdvJTwB"
      }
    },
    {
      "cell_type": "code",
      "source": [
        "    print(\"Accuracy = {}\".format(accuracy_score(test_labels, preds)))\n",
        "    print(\"Precision = {}\".format(precision_score(test_labels, preds)))\n",
        "    print(\"Recall = {}\".format(recall_score(test_labels, preds)))"
      ],
      "outputs": [
        {
          "output_type": "stream",
          "name": "stdout",
          "text": "Accuracy = 0.94\nPrecision = 0.9940711462450593\nRecall = 0.8982142857142857\n"
        }
      ],
      "execution_count": null,
      "metadata": {
        "colab": {
          "base_uri": "https://localhost:8080/"
        },
        "id": "zKDvx7fbJdRn",
        "outputId": "954c1363-7e4b-4304-f611-5a173f9adca1"
      }
    }
  ],
  "metadata": {
    "colab": {
      "provenance": []
    },
    "kernelspec": {
      "name": "python3",
      "display_name": "Python 3"
    },
    "language_info": {
      "name": "python"
    },
    "nteract": {
      "version": "nteract-front-end@1.0.0"
    }
  },
  "nbformat": 4,
  "nbformat_minor": 0
}