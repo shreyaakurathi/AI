{
  "cells": [
    {
      "cell_type": "markdown",
      "source": [
        "Shreya Akurathi \n",
        "200968188\n",
        "Week 4 \n"
      ],
      "metadata": {
        "id": "qOX7476Bztcp"
      }
    },
    {
      "cell_type": "code",
      "source": [
        "!pip install easyAI"
      ],
      "outputs": [
        {
          "output_type": "stream",
          "name": "stdout",
          "text": "Looking in indexes: https://pypi.org/simple, https://us-python.pkg.dev/colab-wheels/public/simple/\nCollecting easyAI\n  Downloading easyAI-2.0.12-py3-none-any.whl (42 kB)\n\u001b[2K     \u001b[90m━━━━━━━━━━━━━━━━━━━━━━━━━━━━━━━━━━━━━━━━\u001b[0m \u001b[32m42.2/42.2 KB\u001b[0m \u001b[31m2.3 MB/s\u001b[0m eta \u001b[36m0:00:00\u001b[0m\n\u001b[?25hRequirement already satisfied: numpy in /usr/local/lib/python3.8/dist-packages (from easyAI) (1.21.6)\nInstalling collected packages: easyAI\nSuccessfully installed easyAI-2.0.12\n"
        }
      ],
      "execution_count": null,
      "metadata": {
        "colab": {
          "base_uri": "https://localhost:8080/"
        },
        "id": "aTWqdHaO1dXH",
        "outputId": "8cd6aca9-f779-4cf8-88a0-a2d79f43af95"
      }
    },
    {
      "cell_type": "code",
      "source": [
        "from easyAI import TwoPlayerGame\n",
        "from easyAI.Player import Human_Player"
      ],
      "outputs": [],
      "execution_count": null,
      "metadata": {
        "id": "aT_tsegR6_Du"
      }
    },
    {
      "cell_type": "code",
      "source": [
        "class TicTacToe(TwoPlayerGame):\n",
        "    \"\"\"The board positions are numbered as follows:\n",
        "    1 2 3\n",
        "    4 5 6\n",
        "    7 8 9\n",
        "    \"\"\"\n",
        "\n",
        "    def __init__(self, players):\n",
        "        self.players = players\n",
        "        self.board = [0 for i in range(9)]\n",
        "        self.current_player = 1  # player 1 starts.\n",
        "\n",
        "    def possible_moves(self):\n",
        "        return [i + 1 for i, e in enumerate(self.board) if e == 0]\n",
        "\n",
        "    def make_move(self, move):\n",
        "        self.board[int(move) - 1] = self.current_player\n",
        "\n",
        "    def unmake_move(self, move):  # optional method (speeds up the AI)\n",
        "        self.board[int(move) - 1] = 0\n",
        "\n",
        "    def lose(self):\n",
        "        \"\"\" Has the opponent \"three in line ?\" \"\"\"\n",
        "        return any(\n",
        "            [\n",
        "                all([(self.board[c - 1] == self.opponent_index) for c in line])\n",
        "                for line in [\n",
        "                    [1, 2, 3],\n",
        "                    [4, 5, 6],\n",
        "                    [7, 8, 9],  # horiz.\n",
        "                    [1, 4, 7],\n",
        "                    [2, 5, 8],\n",
        "                    [3, 6, 9],  # vertical\n",
        "                    [1, 5, 9],\n",
        "                    [3, 5, 7],\n",
        "                ]\n",
        "            ]\n",
        "        )  # diagonal\n",
        "\n",
        "    def is_over(self):\n",
        "        return (self.possible_moves() == []) or self.lose()\n",
        "\n",
        "    def show(self):\n",
        "        print(\n",
        "            \"\\n\"\n",
        "            + \"\\n\".join(\n",
        "                [\n",
        "                    \" \".join([[\".\", \"O\", \"X\"][self.board[3 * j + i]] for i in range(3)])\n",
        "                    for j in range(3)\n",
        "                ]\n",
        "            )\n",
        "        )\n",
        "\n",
        "    def scoring(self):\n",
        "        return -100 if self.lose() else 0\n",
        "\n",
        "\n"
      ],
      "outputs": [],
      "execution_count": null,
      "metadata": {
        "id": "QsDH8YDr7b9N"
      }
    },
    {
      "cell_type": "code",
      "source": [
        "if __name__ == \"__main__\":\n",
        "\n",
        "    from easyAI import AI_Player, Negamax\n",
        "\n",
        "    ai_algo = Negamax(6)\n",
        "    TicTacToe([Human_Player(), AI_Player(ai_algo)]).play()"
      ],
      "outputs": [
        {
          "output_type": "stream",
          "name": "stdout",
          "text": "\n. . .\n. . .\n. . .\n\nPlayer 1 what do you play ? 5\n\nMove #1: player 1 plays 5 :\n\n. . .\n. O .\n. . .\n\nMove #2: player 2 plays 1 :\n\nX . .\n. O .\n. . .\n\nPlayer 1 what do you play ? 9\n\nMove #3: player 1 plays 9 :\n\nX . .\n. O .\n. . O\n\nMove #4: player 2 plays 3 :\n\nX . X\n. O .\n. . O\n\nPlayer 1 what do you play ? 2\n\nMove #5: player 1 plays 2 :\n\nX O X\n. O .\n. . O\n\nMove #6: player 2 plays 8 :\n\nX O X\n. O .\n. X O\n\nPlayer 1 what do you play ? 7\n\nMove #7: player 1 plays 7 :\n\nX O X\n. O .\nO X O\n\nMove #8: player 2 plays 4 :\n\nX O X\nX O .\nO X O\n\nPlayer 1 what do you play ? 6\n\nMove #9: player 1 plays 6 :\n\nX O X\nX O O\nO X O\n"
        }
      ],
      "execution_count": null,
      "metadata": {
        "colab": {
          "base_uri": "https://localhost:8080/"
        },
        "id": "2v6rCHag7i4E",
        "outputId": "4b1fbaa1-4cf9-4bb7-9124-983c8743a8fe"
      }
    },
    {
      "cell_type": "code",
      "source": [
        "import easyAI"
      ],
      "outputs": [],
      "execution_count": null,
      "metadata": {
        "id": "hege79AqA6Ez"
      }
    },
    {
      "cell_type": "code",
      "source": [
        "dir(easyAI)"
      ],
      "outputs": [
        {
          "output_type": "execute_result",
          "execution_count": 6,
          "data": {
            "text/plain": "['AI',\n 'AI_Player',\n 'DUAL',\n 'DictTranspositionTable',\n 'HashTranspositionTable',\n 'Human_Player',\n 'Negamax',\n 'NonRecursiveNegamax',\n 'Player',\n 'SSS',\n 'TranspositionTable',\n 'TwoPlayerGame',\n '__all__',\n '__builtins__',\n '__cached__',\n '__doc__',\n '__file__',\n '__loader__',\n '__name__',\n '__package__',\n '__path__',\n '__spec__',\n 'mtd',\n 'solve_with_depth_first_search',\n 'solve_with_iterative_deepening']"
          },
          "metadata": {}
        }
      ],
      "execution_count": null,
      "metadata": {
        "colab": {
          "base_uri": "https://localhost:8080/"
        },
        "id": "CoUjpgBZA9BD",
        "outputId": "63877018-4f75-44be-da87-bb02df0907f2"
      }
    },
    {
      "cell_type": "markdown",
      "source": [
        "# **Iterative Deepening**\n",
        "\n",
        "Use iterative deepening when we do not know the depth of our solution and have to search a very large state space."
      ],
      "metadata": {
        "id": "5Voi6sPjC3yr"
      }
    },
    {
      "cell_type": "code",
      "source": [
        "from easyAI.AI import Negamax\n",
        "from easyAI.AI import TranspositionTable\n",
        "from easyAI.Player import AI_Player\n",
        "\n",
        "def id_solve(game, ai_depths, win_score, scoring=None,\n",
        "          tt=None, verbose=True):\n",
        "    \"\"\"\n",
        "    Solves a game using iterative deepening, i.e. determines if by playing\n",
        "    perfectly the first player can force a win, or whether it will always\n",
        "    lose against a perfect opponent.\n",
        "    \n",
        "    \n",
        "    This algorithm explores the game by using several times the Negamax\n",
        "    algorithm, always starting at the initial state of the game, but\n",
        "    taking increasing depth (in the list ai_depths) until the score of\n",
        "    the initial condition indicates that the first player will certainly\n",
        "    win or loose, in which case it stops.\n",
        "    The use of transposition table leads to speed gain as the results\n",
        "    of shallower searches are used to help exploring the deeper ones.\n",
        "        \n",
        "    Parameters\n",
        "    -----------\n",
        "    \n",
        "    ai_depths:\n",
        "      List of AI depths to try (e.g. [5,6,7,8,9,10])\n",
        "      \n",
        "      \n",
        "    win_score:\n",
        "      Score above which a score means a win.\n",
        "    \n",
        "    scoring:\n",
        "      Scoring function (see doc of class Negamax)\n",
        "    \n",
        "    tt:\n",
        "      An optional transposition table to speed up computations.\n",
        "    \n",
        "    verbose:\n",
        "      If set to ``True``, will print a summary of the best move\n",
        "      after each depth tried.\n",
        "        \n",
        "    Returns\n",
        "    --------\n",
        "    \n",
        "    (result, depth, move):\n",
        "      As below\n",
        "    \n",
        "    result: \n",
        "      Either 1 (certain victory of the first player) or -1\n",
        "      (certain defeat) or 0 (either draw, or the search was not\n",
        "      deep enough)\n",
        "      \n",
        "    depth:\n",
        "      The minimal number of moves before victory (or defeat)\n",
        "    \n",
        "    move:\n",
        "      Best move to play for the first player.\n",
        "\n",
        "    Also returns with ``tt`` set.\n",
        "      Will be None if ``use_tt`` was set to false, else will be a\n",
        "      transposition table containing all the relevant situations to play\n",
        "      a perfect game and can be used with ``AI_player(tt)``\n",
        "      \n",
        "    \"\"\"\n",
        "    \n",
        "    if not hasattr(game, 'players'): # the user provided a Game class\n",
        "        game = game(players = [AI_Player(None), AI_Player(None)])\n",
        "    \n",
        "    for depth in ai_depths:\n",
        "        ai = Negamax(depth, scoring, tt= tt)\n",
        "        ai(game)\n",
        "        alpha = ai.alpha\n",
        "        if verbose:\n",
        "             print( \"d:%d, a:%d, m:%s\"%(depth, alpha, str(game.ai_move)))\n",
        "        if abs(alpha) >= win_score:\n",
        "            break\n",
        "    \n",
        "    # 1:win, 0:draw, -1:defeat\n",
        "    result = (+1 if alpha>= win_score else (\n",
        "             -1 if alpha <= -win_score else 0))\n",
        "    \n",
        "    return result, depth, game.ai_move"
      ],
      "outputs": [],
      "execution_count": null,
      "metadata": {
        "id": "4bgQMxAjAMh7"
      }
    },
    {
      "cell_type": "markdown",
      "source": [
        "id_solve solves a game using iterative deepening: it explores the game by using several times the Negamax algorithm, always starting at the initial state of the game, but taking increasing depth (in the list ai_depths) until the score of the initial condition indicates that the first player will certainly win or loose, at which case it stops"
      ],
      "metadata": {
        "id": "ZFy37FajKzZ8"
      }
    },
    {
      "cell_type": "code",
      "source": [
        "r,d,m = id_solve( TicTacToe, ai_depths=range(2,20), win_score=100)"
      ],
      "outputs": [
        {
          "output_type": "stream",
          "name": "stdout",
          "text": "d:2, a:0, m:1\nd:3, a:0, m:1\nd:4, a:0, m:1\nd:5, a:0, m:1\nd:6, a:0, m:1\nd:7, a:0, m:1\nd:8, a:0, m:1\nd:9, a:0, m:1\nd:10, a:0, m:1\nd:11, a:0, m:1\nd:12, a:0, m:1\nd:13, a:0, m:1\nd:14, a:0, m:1\nd:15, a:0, m:1\nd:16, a:0, m:1\nd:17, a:0, m:1\nd:18, a:0, m:1\nd:19, a:0, m:1\n"
        }
      ],
      "execution_count": null,
      "metadata": {
        "colab": {
          "base_uri": "https://localhost:8080/"
        },
        "id": "zPLlfNsEAGt7",
        "outputId": "90878c75-c781-4af6-cddb-a9f313badc84"
      }
    },
    {
      "cell_type": "markdown",
      "source": [
        "*  We obtain **a=0**, meaning that if both players play perfectly, the game will always** end in a draw** (-1 would have meant always lose, 1 meaning always winning\n",
        ")\n",
        "* **d=19**, which means that **the wins will be in nineteen moves ** (i.e. around 8 moves per player) or less\n",
        "* **m=1,** which indicates that the **first player’s first move should be 1.**\n",
        "\n",
        "\n",
        "\n",
        "\n",
        "\n",
        "\n"
      ],
      "metadata": {
        "id": "Baq2r9LWL0uT"
      }
    },
    {
      "cell_type": "markdown",
      "source": [
        "# **Depth First Search**"
      ],
      "metadata": {
        "id": "57jOLBKdDK0y"
      }
    },
    {
      "cell_type": "code",
      "source": [
        "def df_solve(game, win_score, maxdepth=50, tt=None, depth=0):\n",
        "    \"\"\" \n",
        "    Solves a game using a depth-first search: the game is explored until\n",
        "    endgames are reached.\n",
        "    \n",
        "    The endgames are evaluated to see if there are victories or defeats.\n",
        "    Then, a situation in which every move leads to a defeat is labelled\n",
        "    as a (certain) defeat, and a situation in which one move leads to a\n",
        "    (certain) defeat of the opponent is labelled as a (certain) victory.\n",
        "    Situations are evaluated until the initial condition receives a label\n",
        "    (victory or defeat). Draws are also possible.\n",
        "    \n",
        "    This algorithm can be faster but less informative than ``id_solve``,\n",
        "    as it does not provide 'optimal' strategies (like shortest path to\n",
        "    the victory). It returns simply 1, 0, or -1 to indicate certain\n",
        "    victory, draw, or defeat of the first player.\n",
        "        \n",
        "    Parameters\n",
        "    -----------\n",
        "    \n",
        "    game:\n",
        "      An Game instance, initialized and ready to be played.\n",
        "      \n",
        "    win_score:\n",
        "      Score above which a score means a win.\n",
        "    \n",
        "    maxdepth:\n",
        "      Maximal recursion depth allowed.\n",
        "    \n",
        "    tt:\n",
        "      An optional transposition table to speed up computations.\n",
        "      \n",
        "    \n",
        "    depth:\n",
        "      Index of the current depth (don't touch that).\n",
        "      \n",
        "    Returns\n",
        "    --------\n",
        "    \n",
        "    result\n",
        "      Either 1 (certain victory of the first player) or -1\n",
        "      (certain defeat) or 0 (either draw, or the search was not\n",
        "      deep enough)\n",
        "    \n",
        "    \"\"\"\n",
        "    \n",
        "    \n",
        "    # Is there a transposition table and is this game in it ?\n",
        "    lookup = None if (tt is None) else tt.lookup(game)\n",
        "    if lookup != None:\n",
        "        return lookup['value']\n",
        "        \n",
        "    if (depth == maxdepth):\n",
        "        raise \"Max recursion depth reached :(\"\n",
        "    \n",
        "    if game.is_over():\n",
        "        score = game.scoring()\n",
        "        value = 1 if (score>=win_score) else (-1 if -score>=win_score else 0)\n",
        "        #tt.store(game=game, value=value, move=None)\n",
        "        return  value\n",
        "    \n",
        "    possible_moves = game.possible_moves()\n",
        "    \n",
        "    state = game\n",
        "    unmake_move = hasattr(state, 'unmake_move')\n",
        "    \n",
        "    best_value, best_move = -1, None\n",
        "    \n",
        "    for move in possible_moves:\n",
        "        \n",
        "        if not unmake_move:\n",
        "            game = state.copy() # re-initialize move\n",
        "        \n",
        "        game.make_move(move)\n",
        "        game.switch_player()\n",
        "        \n",
        "        move_value = - df_solve(game,  win_score,  maxdepth, tt, depth+1)\n",
        "        \n",
        "        if unmake_move:\n",
        "            game.switch_player()\n",
        "            game.unmake_move(move)\n",
        "        \n",
        "        if move_value == 1:\n",
        "            #tt.store(game=state, value=1, move=move)\n",
        "            return move_value\n",
        "        \n",
        "        if move_value == 0 and best_value==-1:\n",
        "            # Is forcing a draw possible ?\n",
        "            best_value = 0\n",
        "            best_move = move\n",
        "    \n",
        "    #tt.store(game=state, value=best_value, move=best_move)\n",
        "    \n",
        "    return best_value"
      ],
      "outputs": [],
      "execution_count": null,
      "metadata": {
        "id": "xblITEdzDKi7"
      }
    },
    {
      "cell_type": "code",
      "source": [
        "game = TicTacToe(players = [Human_Player(), AI_Player(ai_algo)]) # the players are not important\n",
        "\n",
        "r = df_solve(game, win_score= 90)"
      ],
      "outputs": [],
      "execution_count": null,
      "metadata": {
        "id": "fW4yN2E-DQ0D"
      }
    },
    {
      "cell_type": "markdown",
      "source": [
        "The game is explored until endgames are reached and these endgames are evaluated to see if their are victories or defeats (or draws). Then, a situation in which every move leads to a defeat is labelled as a (certain) defeat, and a situation in which one move leads to a (certain) defeat of the opponent is labelled as a (certain) victory. This way we come back up to the root (initial condition) which receives a label, which is returned."
      ],
      "metadata": {
        "id": "JZsYbhfhNIie"
      }
    },
    {
      "cell_type": "code",
      "source": [
        "r"
      ],
      "outputs": [
        {
          "output_type": "execute_result",
          "execution_count": 11,
          "data": {
            "text/plain": "0"
          },
          "metadata": {}
        }
      ],
      "execution_count": null,
      "metadata": {
        "colab": {
          "base_uri": "https://localhost:8080/"
        },
        "id": "Jvk2zqPtFfxy",
        "outputId": "9802b9f3-a152-483e-afea-a3782275d83e"
      }
    },
    {
      "cell_type": "markdown",
      "source": [
        "**We get 0 which means the game will end in a draw.**\n",
        "r is either -1 (certain defeat of the first player against a perfect opponent), 0 (it is possible to force a draw, but not to win), or 1 (certain victory if the first player plays perfectly)."
      ],
      "metadata": {
        "id": "rBP_em5vNCZp"
      }
    },
    {
      "cell_type": "markdown",
      "source": [
        "the iterative deepening function gives more information about the posssible gameplays than depth first search.\n",
        "\n",
        "**Iterative deepening:**\n",
        "This algorithm starts with a depth limit of 1 and keeps increasing the depth limit until a solution is found. It performs depth-first search at each depth limit.\n",
        "\n",
        "**Depth-first search:** This algorithm starts at the root node and explores each branch as far as possible before backtracking."
      ],
      "metadata": {
        "id": "9497jwWZNWRu"
      }
    }
  ],
  "metadata": {
    "colab": {
      "provenance": []
    },
    "kernelspec": {
      "name": "python3",
      "display_name": "Python 3"
    },
    "language_info": {
      "name": "python"
    },
    "accelerator": "GPU",
    "gpuClass": "standard",
    "nteract": {
      "version": "nteract-front-end@1.0.0"
    }
  },
  "nbformat": 4,
  "nbformat_minor": 0
}